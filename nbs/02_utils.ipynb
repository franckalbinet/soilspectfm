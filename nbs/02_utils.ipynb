{
 "cells": [
  {
   "cell_type": "markdown",
   "metadata": {},
   "source": [
    "# Utils\n",
    "\n",
    "> Utility functions for spectroscopic data."
   ]
  },
  {
   "cell_type": "code",
   "execution_count": null,
   "metadata": {},
   "outputs": [],
   "source": [
    "#| default_exp utils"
   ]
  },
  {
   "cell_type": "code",
   "execution_count": null,
   "metadata": {},
   "outputs": [],
   "source": [
    "#| hide\n",
    "%load_ext autoreload\n",
    "%autoreload 2"
   ]
  },
  {
   "cell_type": "code",
   "execution_count": null,
   "metadata": {},
   "outputs": [],
   "source": [
    "#| exports\n",
    "toy_mir_url = 'https://gist.githubusercontent.com/franckalbinet/a7476d0413e88bcc162c553e43f182fa/raw/a45dc573eec558b019909bdd1830fbb207511fcb/mir-spectra-sample.csv'\n",
    "toy_noisy_mir_url = 'https://gist.githubusercontent.com/franckalbinet/3e4e16f592175edad724c22841eb88dd/raw/c6a3f83c0146fbdc826aa4e9c1c448120a281a2e/rt_mir_bruker.csv'"
   ]
  },
  {
   "cell_type": "code",
   "execution_count": null,
   "metadata": {},
   "outputs": [],
   "source": [
    "#| export\n",
    "import pandas as pd"
   ]
  },
  {
   "cell_type": "code",
   "execution_count": null,
   "metadata": {},
   "outputs": [],
   "source": [
    "#| exports\n",
    "def load_toy_mir():\n",
    "    \"\"\"Load the toy MIR dataset.\"\"\"\n",
    "    df_mir = pd.read_csv(toy_mir_url)\n",
    "    ws = df_mir.columns.astype(int).to_numpy()\n",
    "    X = df_mir.values\n",
    "    return X, ws"
   ]
  },
  {
   "cell_type": "code",
   "execution_count": null,
   "metadata": {},
   "outputs": [
    {
     "name": "stdout",
     "output_type": "stream",
     "text": [
      "X shape: (50, 1701), First 5 wavenumbers: [600 602 604 606 608]\n"
     ]
    }
   ],
   "source": [
    "#| eval: false\n",
    "X, ws = load_toy_mir()\n",
    "print(f'X shape: {X.shape}, First 5 wavenumbers: {ws[:5]}')"
   ]
  },
  {
   "cell_type": "code",
   "execution_count": null,
   "metadata": {},
   "outputs": [],
   "source": [
    "#| exports\n",
    "def load_toy_noisy_mir():\n",
    "    \"\"\"\n",
    "    Load the toy noisy MIR dataset.\n",
    "    \n",
    "    Scans acquired in the context of a K spiking experiment: In-progress publication.\n",
    "    \"\"\"\n",
    "    df = pd.read_csv(toy_noisy_mir_url)\n",
    "    sample_ids = df.sample_id.values\n",
    "    wavenumbers = df.columns[1:].to_numpy().astype(float)\n",
    "    spectra = df.iloc[:, 1:].to_numpy()\n",
    "    return spectra, wavenumbers, sample_ids"
   ]
  },
  {
   "cell_type": "code",
   "execution_count": null,
   "metadata": {},
   "outputs": [
    {
     "name": "stdout",
     "output_type": "stream",
     "text": [
      "X shape: (48, 3315), First 5 wavenumbers: [599.91153162 600.93702142 601.96251122 602.98800102 604.01349081]\n"
     ]
    }
   ],
   "source": [
    "#| eval: false\n",
    "X, wns, smp_id = load_toy_noisy_mir()\n",
    "print(f'X shape: {X.shape}, First 5 wavenumbers: {wns[:5]}')"
   ]
  }
 ],
 "metadata": {
  "kernelspec": {
   "display_name": "python3",
   "language": "python",
   "name": "python3"
  }
 },
 "nbformat": 4,
 "nbformat_minor": 4
}
